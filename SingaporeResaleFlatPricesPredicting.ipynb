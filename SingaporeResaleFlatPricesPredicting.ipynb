{
  "nbformat": 4,
  "nbformat_minor": 0,
  "metadata": {
    "colab": {
      "provenance": [],
      "mount_file_id": "1cGwZFYfOK3lM7ce0oSEuC_9AqpjrKOIZ",
      "authorship_tag": "ABX9TyPcTY1onLLm0ATspjrE2aJM",
      "include_colab_link": true
    },
    "kernelspec": {
      "name": "python3",
      "display_name": "Python 3"
    },
    "language_info": {
      "name": "python"
    }
  },
  "cells": [
    {
      "cell_type": "markdown",
      "metadata": {
        "id": "view-in-github",
        "colab_type": "text"
      },
      "source": [
        "<a href=\"https://colab.research.google.com/github/GDharan10/Project6_SingaporeResaleFlatPricesPredicting/blob/main/SingaporeResaleFlatPricesPredicting.ipynb\" target=\"_parent\"><img src=\"https://colab.research.google.com/assets/colab-badge.svg\" alt=\"Open In Colab\"/></a>"
      ]
    },
    {
      "cell_type": "code",
      "execution_count": 2,
      "metadata": {
        "id": "CBUJyDCZ_3nI"
      },
      "outputs": [],
      "source": [
        "import pandas as pd\n",
        "import numpy as np\n",
        "\n",
        "#Connections\n",
        "from google.colab import drive\n",
        "\n",
        "#Visualization\n",
        "import plotly.graph_objects as go\n",
        "import plotly.express as px\n",
        "import matplotlib.pyplot as plt\n",
        "import seaborn as sns\n",
        "\n",
        "#Preprocessing\n",
        "from sklearn.preprocessing import OrdinalEncoder\n",
        "\n",
        "#Machine Learning identifying algorithms/Model\n",
        "from sklearn.model_selection import train_test_split\n",
        "\n",
        "#Machine Learning Training\n"
      ]
    },
    {
      "cell_type": "code",
      "source": [
        "drive.mount('/content/drive')"
      ],
      "metadata": {
        "colab": {
          "base_uri": "https://localhost:8080/"
        },
        "id": "5MBD-tIXAMQt",
        "outputId": "7550c7f8-4e35-417e-9365-e40bee2d7829"
      },
      "execution_count": 3,
      "outputs": [
        {
          "output_type": "stream",
          "name": "stdout",
          "text": [
            "Drive already mounted at /content/drive; to attempt to forcibly remount, call drive.mount(\"/content/drive\", force_remount=True).\n"
          ]
        }
      ]
    },
    {
      "cell_type": "code",
      "source": [
        "file_path_90to99 = '/content/drive/MyDrive/DTM15/Dataset/SingaporeResaleFlat/ResaleFlatPricesBasedonApprovalDate19901999.csv'\n",
        "df_90to99 = pd.read_csv(file_path_90to99)\n",
        "\n",
        "file_path_00to12 = '/content/drive/MyDrive/DTM15/Dataset/SingaporeResaleFlat/ResaleFlatPricesBasedonApprovalDate2000Feb2012.csv'\n",
        "df_00to12 = pd.read_csv(file_path_00to12)\n",
        "\n",
        "file_path_12to14 = '/content/drive/MyDrive/DTM15/Dataset/SingaporeResaleFlat/ResaleFlatPricesBasedonRegistrationDateFromMar2012toDec2014.csv'\n",
        "df_12to14 = pd.read_csv(file_path_12to14)\n",
        "\n",
        "file_path_15to16 = '/content/drive/MyDrive/DTM15/Dataset/SingaporeResaleFlat/ResaleFlatPricesBasedonRegistrationDateFromJan2015toDec2016.csv'\n",
        "df_15to16 = pd.read_csv(file_path_15to16)\n",
        "\n",
        "file_path_17ToTill = '/content/drive/MyDrive/DTM15/Dataset/SingaporeResaleFlat/ResaleflatpricesbasedonregistrationdatefromJan2017onwards.csv'\n",
        "df_17ToTill = pd.read_csv(file_path_17ToTill)"
      ],
      "metadata": {
        "id": "B4N9n_jHAVef"
      },
      "execution_count": 4,
      "outputs": []
    },
    {
      "cell_type": "code",
      "source": [
        "print(df_90to99.info(), df_00to12.info(), df_12to14.info(), df_15to16.info(), df_17ToTill.info())"
      ],
      "metadata": {
        "colab": {
          "base_uri": "https://localhost:8080/"
        },
        "id": "_BFvw15bCTQZ",
        "outputId": "f7383a32-1fe7-4d2e-cf52-b33c70da2546"
      },
      "execution_count": 9,
      "outputs": [
        {
          "output_type": "stream",
          "name": "stdout",
          "text": [
            "<class 'pandas.core.frame.DataFrame'>\n",
            "RangeIndex: 287196 entries, 0 to 287195\n",
            "Data columns (total 10 columns):\n",
            " #   Column               Non-Null Count   Dtype  \n",
            "---  ------               --------------   -----  \n",
            " 0   month                287196 non-null  object \n",
            " 1   town                 287196 non-null  object \n",
            " 2   flat_type            287196 non-null  object \n",
            " 3   block                287196 non-null  object \n",
            " 4   street_name          287196 non-null  object \n",
            " 5   storey_range         287196 non-null  object \n",
            " 6   floor_area_sqm       287196 non-null  float64\n",
            " 7   flat_model           287196 non-null  object \n",
            " 8   lease_commence_date  287196 non-null  int64  \n",
            " 9   resale_price         287196 non-null  int64  \n",
            "dtypes: float64(1), int64(2), object(7)\n",
            "memory usage: 21.9+ MB\n",
            "<class 'pandas.core.frame.DataFrame'>\n",
            "RangeIndex: 369651 entries, 0 to 369650\n",
            "Data columns (total 10 columns):\n",
            " #   Column               Non-Null Count   Dtype  \n",
            "---  ------               --------------   -----  \n",
            " 0   month                369651 non-null  object \n",
            " 1   town                 369651 non-null  object \n",
            " 2   flat_type            369651 non-null  object \n",
            " 3   block                369651 non-null  object \n",
            " 4   street_name          369651 non-null  object \n",
            " 5   storey_range         369651 non-null  object \n",
            " 6   floor_area_sqm       369651 non-null  float64\n",
            " 7   flat_model           369651 non-null  object \n",
            " 8   lease_commence_date  369651 non-null  int64  \n",
            " 9   resale_price         369651 non-null  float64\n",
            "dtypes: float64(2), int64(1), object(7)\n",
            "memory usage: 28.2+ MB\n",
            "<class 'pandas.core.frame.DataFrame'>\n",
            "RangeIndex: 52203 entries, 0 to 52202\n",
            "Data columns (total 10 columns):\n",
            " #   Column               Non-Null Count  Dtype  \n",
            "---  ------               --------------  -----  \n",
            " 0   month                52203 non-null  object \n",
            " 1   town                 52203 non-null  object \n",
            " 2   flat_type            52203 non-null  object \n",
            " 3   block                52203 non-null  object \n",
            " 4   street_name          52203 non-null  object \n",
            " 5   storey_range         52203 non-null  object \n",
            " 6   floor_area_sqm       52203 non-null  float64\n",
            " 7   flat_model           52203 non-null  object \n",
            " 8   lease_commence_date  52203 non-null  int64  \n",
            " 9   resale_price         52203 non-null  float64\n",
            "dtypes: float64(2), int64(1), object(7)\n",
            "memory usage: 4.0+ MB\n",
            "<class 'pandas.core.frame.DataFrame'>\n",
            "RangeIndex: 37153 entries, 0 to 37152\n",
            "Data columns (total 11 columns):\n",
            " #   Column               Non-Null Count  Dtype  \n",
            "---  ------               --------------  -----  \n",
            " 0   month                37153 non-null  object \n",
            " 1   town                 37153 non-null  object \n",
            " 2   flat_type            37153 non-null  object \n",
            " 3   block                37153 non-null  object \n",
            " 4   street_name          37153 non-null  object \n",
            " 5   storey_range         37153 non-null  object \n",
            " 6   floor_area_sqm       37153 non-null  float64\n",
            " 7   flat_model           37153 non-null  object \n",
            " 8   lease_commence_date  37153 non-null  int64  \n",
            " 9   remaining_lease      37153 non-null  int64  \n",
            " 10  resale_price         37153 non-null  float64\n",
            "dtypes: float64(2), int64(2), object(7)\n",
            "memory usage: 3.1+ MB\n",
            "<class 'pandas.core.frame.DataFrame'>\n",
            "RangeIndex: 178244 entries, 0 to 178243\n",
            "Data columns (total 11 columns):\n",
            " #   Column               Non-Null Count   Dtype  \n",
            "---  ------               --------------   -----  \n",
            " 0   month                178244 non-null  object \n",
            " 1   town                 178244 non-null  object \n",
            " 2   flat_type            178244 non-null  object \n",
            " 3   block                178244 non-null  object \n",
            " 4   street_name          178244 non-null  object \n",
            " 5   storey_range         178244 non-null  object \n",
            " 6   floor_area_sqm       178244 non-null  float64\n",
            " 7   flat_model           178244 non-null  object \n",
            " 8   lease_commence_date  178244 non-null  int64  \n",
            " 9   remaining_lease      178244 non-null  object \n",
            " 10  resale_price         178244 non-null  float64\n",
            "dtypes: float64(2), int64(1), object(8)\n",
            "memory usage: 15.0+ MB\n",
            "None /t None None None None\n"
          ]
        }
      ]
    }
  ]
}